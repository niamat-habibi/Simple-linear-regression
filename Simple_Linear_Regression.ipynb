{
 "cells": [
  {
   "cell_type": "markdown",
   "id": "f7c1a668",
   "metadata": {
    "id": "60359d86-93e3-495b-8a5a-263735b55320"
   },
   "source": [
    "# Exemplar: Run simple linear regression"
   ]
  },
  {
   "cell_type": "markdown",
   "id": "36480d73",
   "metadata": {
    "id": "1ffc2b1e-7061-4100-b7a7-b7bed589c55e"
   },
   "source": [
    "# Introduction\n",
    "\n",
    "As you're learning, simple linear regression is a way to model the relationship between two variables. By assessing the direction and magnitude of a relationship, data professionals are able to uncover patterns and transform large amounts of data into valuable knowledge. This enables them to make better predictions and decisions. \n",
    "\n",
    "In this lab, you are part of an analytics team that provides insights about your company's sales and marketing practices. You have been assigned to a project that focuses on the use of influencer marketing. For this task, you will explore the relationship between your radio promotion budget and your sales. \n",
    "\n",
    "The dataset provided includes information about marketing campaigns across TV, radio, and social media, as well as how much revenue in sales was generated from these campaigns. Based on this information, company leaders will make decisions about where to focus future marketing resources. Therefore, it is critical to provide them with a clear understanding of the relationship between types of marketing campaigns and the revenue generated as a result of this investment."
   ]
  },
  {
   "cell_type": "markdown",
   "id": "c69e7b1e",
   "metadata": {
    "id": "92b22e4b-fcb0-4f99-98fb-f639669dce2d"
   },
   "source": [
    "# Step 1: Imports"
   ]
  },
  {
   "cell_type": "markdown",
   "id": "fc035d06",
   "metadata": {
    "id": "a1cc0f65-3243-4915-ae6a-e9f050c08e3a"
   },
   "source": [
    "## In this section, first import relevant Python libraries and modules."
   ]
  },
  {
   "cell_type": "code",
   "execution_count": 1,
   "id": "de8320c6",
   "metadata": {
    "colab": {
     "base_uri": "https://localhost:8080/"
    },
    "executionInfo": {
     "elapsed": 1600,
     "status": "ok",
     "timestamp": 1660774678711,
     "user": {
      "displayName": "Lavanya Vijayan",
      "userId": "01043085078394539645"
     },
     "user_tz": 420
    },
    "id": "ac02e2f5-e96d-4046-b8b8-a46cb06939f6",
    "outputId": "0880ed58-edb5-4dfd-b5ee-f1c25f4ea835"
   },
   "outputs": [],
   "source": [
    "# Import relevant Python libraries and modules\n",
    "\n",
    "\n",
    "import pandas as pd\n",
    "import matplotlib.pyplot as plt\n",
    "import seaborn as sns\n",
    "from statsmodels.formula.api import ols\n",
    "import statsmodels.api as sm"
   ]
  },
  {
   "cell_type": "markdown",
   "id": "b9ce2fda",
   "metadata": {
    "id": "e385eecf-7003-44da-87bb-1a2e1a9f9de3"
   },
   "source": [
    "## Now load the dataset into a DataFrame. \n",
    "\n",
    "The dataset provided is a csv file (named `marketing_sales_data.csv`) containing information about promotional marketing conducted in collaboration with influencers, along with the corresponding sales. This is a fictional dataset that was created for educational purposes and modified for this lab. Assume that the numerical variables in the data are expressed in millions of dollars."
   ]
  },
  {
   "cell_type": "code",
   "execution_count": 3,
   "id": "aa5e1da3",
   "metadata": {
    "executionInfo": {
     "elapsed": 38,
     "status": "ok",
     "timestamp": 1660774678712,
     "user": {
      "displayName": "Lavanya Vijayan",
      "userId": "01043085078394539645"
     },
     "user_tz": 420
    },
    "id": "d285e184-40f6-401a-98b6-f266e7a65e48"
   },
   "outputs": [],
   "source": [
    "# Load the dataset into a DataFrame and save in a variable\n",
    "\n",
    "# Define the file path\n",
    "file_path = r\"C:\\Users\\NiamatullahHa\\Desktop\\google adv da cert\\Course 5 Regression analysis\\2- mod\\Enterpret of simple linear regression\\marketing_sales_data.csv\"\n",
    "\n",
    "# Load the dataset into a DataFrame\n",
    "data = pd.read_csv(file_path)\n"
   ]
  },
  {
   "cell_type": "markdown",
   "id": "ccb7fdb2-99f0-407f-94f6-864354b42bae",
   "metadata": {
    "id": "lXPOJ3LO-v7J",
    "tags": []
   },
   "source": [
    "<details>\n",
    "  <summary><h4><strong>HINT 1</strong></h4></summary>\n",
    "\n",
    "You may refer back to what you learned about loading data in Python.\n",
    "\n",
    "</details>"
   ]
  },
  {
   "cell_type": "markdown",
   "id": "48efea15",
   "metadata": {
    "id": "O5TEL8Ty-v7L",
    "jp-MarkdownHeadingCollapsed": true,
    "tags": []
   },
   "source": [
    "<details>\n",
    "  <summary><h4><strong>HINT 2</strong></h4></summary>\n",
    "\n",
    "There is a function in the `pandas` library that allows you to read data from a csv file and load the data into a DataFrame.\n",
    " \n",
    "\n",
    "</details>"
   ]
  },
  {
   "cell_type": "markdown",
   "id": "29febc67",
   "metadata": {
    "id": "kEx2SsH2-v7M",
    "jp-MarkdownHeadingCollapsed": true,
    "tags": []
   },
   "source": [
    "<details>\n",
    "  <summary><h4><strong>HINT 3</strong></h4></summary>\n",
    "\n",
    "Use the `read_csv()` function from the `pandas` library. \n",
    "\n",
    "</details>"
   ]
  },
  {
   "cell_type": "markdown",
   "id": "2b38be90",
   "metadata": {
    "id": "18981762-ab15-441e-8cc7-16848fd6c9d2"
   },
   "source": [
    "# Step 2. Data Exploration"
   ]
  },
  {
   "cell_type": "markdown",
   "id": "f8d07581",
   "metadata": {
    "id": "07264b51-9724-4cba-b5f0-3f508e392675"
   },
   "source": [
    "## To get a sense of what the data includes, display the first 10 rows of the data."
   ]
  },
  {
   "cell_type": "code",
   "execution_count": 4,
   "id": "1d9b8c30",
   "metadata": {
    "colab": {
     "base_uri": "https://localhost:8080/",
     "height": 363
    },
    "executionInfo": {
     "elapsed": 40,
     "status": "ok",
     "timestamp": 1660774678714,
     "user": {
      "displayName": "Lavanya Vijayan",
      "userId": "01043085078394539645"
     },
     "user_tz": 420
    },
    "id": "e86b8a7c-0e6a-4fee-b810-9d08e35b6eb6",
    "outputId": "53016f09-7df9-4415-92a6-c5f9f7e61435"
   },
   "outputs": [
    {
     "data": {
      "text/html": [
       "<div>\n",
       "<style scoped>\n",
       "    .dataframe tbody tr th:only-of-type {\n",
       "        vertical-align: middle;\n",
       "    }\n",
       "\n",
       "    .dataframe tbody tr th {\n",
       "        vertical-align: top;\n",
       "    }\n",
       "\n",
       "    .dataframe thead th {\n",
       "        text-align: right;\n",
       "    }\n",
       "</style>\n",
       "<table border=\"1\" class=\"dataframe\">\n",
       "  <thead>\n",
       "    <tr style=\"text-align: right;\">\n",
       "      <th></th>\n",
       "      <th>TV</th>\n",
       "      <th>Radio</th>\n",
       "      <th>Social Media</th>\n",
       "      <th>Influencer</th>\n",
       "      <th>Sales</th>\n",
       "    </tr>\n",
       "  </thead>\n",
       "  <tbody>\n",
       "    <tr>\n",
       "      <th>0</th>\n",
       "      <td>Low</td>\n",
       "      <td>1.218354</td>\n",
       "      <td>1.270444</td>\n",
       "      <td>Micro</td>\n",
       "      <td>90.054222</td>\n",
       "    </tr>\n",
       "    <tr>\n",
       "      <th>1</th>\n",
       "      <td>Medium</td>\n",
       "      <td>14.949791</td>\n",
       "      <td>0.274451</td>\n",
       "      <td>Macro</td>\n",
       "      <td>222.741668</td>\n",
       "    </tr>\n",
       "    <tr>\n",
       "      <th>2</th>\n",
       "      <td>Low</td>\n",
       "      <td>10.377258</td>\n",
       "      <td>0.061984</td>\n",
       "      <td>Mega</td>\n",
       "      <td>102.774790</td>\n",
       "    </tr>\n",
       "    <tr>\n",
       "      <th>3</th>\n",
       "      <td>High</td>\n",
       "      <td>26.469274</td>\n",
       "      <td>7.070945</td>\n",
       "      <td>Micro</td>\n",
       "      <td>328.239378</td>\n",
       "    </tr>\n",
       "    <tr>\n",
       "      <th>4</th>\n",
       "      <td>High</td>\n",
       "      <td>36.876302</td>\n",
       "      <td>7.618605</td>\n",
       "      <td>Mega</td>\n",
       "      <td>351.807328</td>\n",
       "    </tr>\n",
       "    <tr>\n",
       "      <th>5</th>\n",
       "      <td>High</td>\n",
       "      <td>25.561910</td>\n",
       "      <td>5.459718</td>\n",
       "      <td>Micro</td>\n",
       "      <td>261.966812</td>\n",
       "    </tr>\n",
       "    <tr>\n",
       "      <th>6</th>\n",
       "      <td>High</td>\n",
       "      <td>37.263819</td>\n",
       "      <td>6.886535</td>\n",
       "      <td>Nano</td>\n",
       "      <td>349.861575</td>\n",
       "    </tr>\n",
       "    <tr>\n",
       "      <th>7</th>\n",
       "      <td>Low</td>\n",
       "      <td>13.187256</td>\n",
       "      <td>2.766352</td>\n",
       "      <td>Macro</td>\n",
       "      <td>140.415286</td>\n",
       "    </tr>\n",
       "    <tr>\n",
       "      <th>8</th>\n",
       "      <td>High</td>\n",
       "      <td>29.520170</td>\n",
       "      <td>2.333157</td>\n",
       "      <td>Nano</td>\n",
       "      <td>264.592233</td>\n",
       "    </tr>\n",
       "    <tr>\n",
       "      <th>9</th>\n",
       "      <td>Low</td>\n",
       "      <td>3.773287</td>\n",
       "      <td>0.135074</td>\n",
       "      <td>Nano</td>\n",
       "      <td>55.674214</td>\n",
       "    </tr>\n",
       "  </tbody>\n",
       "</table>\n",
       "</div>"
      ],
      "text/plain": [
       "       TV      Radio  Social Media Influencer       Sales\n",
       "0     Low   1.218354      1.270444      Micro   90.054222\n",
       "1  Medium  14.949791      0.274451      Macro  222.741668\n",
       "2     Low  10.377258      0.061984       Mega  102.774790\n",
       "3    High  26.469274      7.070945      Micro  328.239378\n",
       "4    High  36.876302      7.618605       Mega  351.807328\n",
       "5    High  25.561910      5.459718      Micro  261.966812\n",
       "6    High  37.263819      6.886535       Nano  349.861575\n",
       "7     Low  13.187256      2.766352      Macro  140.415286\n",
       "8    High  29.520170      2.333157       Nano  264.592233\n",
       "9     Low   3.773287      0.135074       Nano   55.674214"
      ]
     },
     "execution_count": 4,
     "metadata": {},
     "output_type": "execute_result"
    }
   ],
   "source": [
    "# Display the first 10 rows of the data\n",
    "\n",
    "\n",
    "data.head(10)"
   ]
  },
  {
   "cell_type": "markdown",
   "id": "9d7b0a1d",
   "metadata": {
    "id": "49881dfd-4532-424f-9729-f5378d984df0",
    "jp-MarkdownHeadingCollapsed": true,
    "tags": []
   },
   "source": [
    "<details>\n",
    "  <summary><h4><strong>HINT 1</strong></h4></summary>\n",
    "\n",
    "You may find it helpful to refer back to what you learned about exploring datasets in Python.\n",
    "\n",
    "</details>"
   ]
  },
  {
   "cell_type": "markdown",
   "id": "e8e7f239",
   "metadata": {
    "id": "k2QxFOi9HW1Q",
    "jp-MarkdownHeadingCollapsed": true,
    "tags": []
   },
   "source": [
    "<details>\n",
    "  <summary><h4><strong>HINT 2</strong></h4></summary>\n",
    "\n",
    "  There is a function in the `pandas` library that allows you to get a specific number of rows from the top of a DataFrame.\n",
    " \n",
    "\n",
    "</details>"
   ]
  },
  {
   "cell_type": "markdown",
   "id": "6546554f",
   "metadata": {
    "id": "ptkclWFzHjHv",
    "jp-MarkdownHeadingCollapsed": true,
    "tags": []
   },
   "source": [
    "<details>\n",
    "  <summary><h4><strong>HINT 3</strong></h4></summary>\n",
    "\n",
    "Use the `head()` function from the `pandas` library. \n",
    "\n",
    "</details>"
   ]
  },
  {
   "cell_type": "markdown",
   "id": "1b2b431a",
   "metadata": {
    "id": "70e40948-980d-41b1-a17d-78ecfd62ab21"
   },
   "source": [
    "## **Question 1**: What do you observe about the different variables included in the data?\n",
    "\n",
    "- The data includes the following information:\n",
    "    - TV promotion budget (expressed as \"Low\", \"Medium\", or \"High\") \n",
    "    - Radio promotion budget\n",
    "    - Social media promotion budget\n",
    "    - Type of influencer that the promotion is in collaboration with (expressed as \"Mega\", \"Macro\", or \"Micro\", or \"Nano\")\n",
    "        - Note: Mega-influencers have over 1 million followers, macro-influencers have 100,000 to 1 million followers, micro-influencers have 10,000 to 100,000 followers, and nano-influencers have fewer than 10,000 followers.\n",
    "    - Sales accrued from the promotion"
   ]
  },
  {
   "cell_type": "markdown",
   "id": "8705a5fa",
   "metadata": {
    "id": "d7dafc3d-ae53-471e-a91e-2b177dee576a"
   },
   "source": [
    "## To get a sense of how large the data is, identify the number of rows and the number of columns in the data."
   ]
  },
  {
   "cell_type": "code",
   "execution_count": 5,
   "id": "f725e1ff",
   "metadata": {
    "colab": {
     "base_uri": "https://localhost:8080/"
    },
    "executionInfo": {
     "elapsed": 36,
     "status": "ok",
     "timestamp": 1660774678714,
     "user": {
      "displayName": "Lavanya Vijayan",
      "userId": "01043085078394539645"
     },
     "user_tz": 420
    },
    "id": "829c217b-5504-4b01-9f2f-ef4530c5d6a5",
    "outputId": "96621b13-918a-4bcb-9337-5b142d0f4ce0"
   },
   "outputs": [
    {
     "data": {
      "text/plain": [
       "(572, 5)"
      ]
     },
     "execution_count": 5,
     "metadata": {},
     "output_type": "execute_result"
    }
   ],
   "source": [
    "# Display number of rows, number of columns\n",
    "\n",
    "\n",
    "data.shape"
   ]
  },
  {
   "cell_type": "markdown",
   "id": "34d50730",
   "metadata": {
    "id": "AlENNCbBChZd",
    "jp-MarkdownHeadingCollapsed": true,
    "tags": []
   },
   "source": [
    "<details>\n",
    "  <summary><h4><strong>HINT 1</strong></h4></summary>\n",
    "\n",
    "You may find it helpful to refer back to what you learned about exploring datasets in Python.\n",
    "\n",
    "</details>"
   ]
  },
  {
   "cell_type": "markdown",
   "id": "feeebcbb",
   "metadata": {
    "id": "Wq72auJsChZf",
    "jp-MarkdownHeadingCollapsed": true,
    "tags": []
   },
   "source": [
    "<details>\n",
    "  <summary><h4><strong>HINT 2</strong></h4></summary>\n",
    "\n",
    "There is a property that every DataFrame in `pandas` has; it gives you access to the number of rows and the number of columns as a tuple.\n",
    "\n",
    "</details>"
   ]
  },
  {
   "cell_type": "markdown",
   "id": "1759f325",
   "metadata": {
    "id": "QhI8U7wkChZg",
    "jp-MarkdownHeadingCollapsed": true,
    "tags": []
   },
   "source": [
    "<details>\n",
    "  <summary><h4><strong>HINT 3</strong></h4></summary>\n",
    "\n",
    "Use the `shape` property.\n",
    "\n",
    "</details>"
   ]
  },
  {
   "cell_type": "markdown",
   "id": "d0867f51",
   "metadata": {
    "id": "3c5721af-2d79-4d2c-a0b1-d38d2b154d47",
    "tags": []
   },
   "source": [
    "## **Question 2**: What do you observe about the number of rows and number of columns in the data?\n",
    "\n",
    "- There are 572 rows and 5 columns in the data. One way to interpret this is that 572 companies are represented in the data, along with 5 aspects about each company that reveals how they promote their products/services and the sales accrued from their promotion."
   ]
  },
  {
   "cell_type": "markdown",
   "id": "fc4bf14d",
   "metadata": {
    "id": "be18e6af-bf42-44ac-86e8-e87e2d4a4ecf",
    "tags": []
   },
   "source": [
    "Now, check for missing values in the rows of the data. This is important because missing values are not that meaningful when modeling the relationship between two variables. To do so, begin by getting Booleans that indicate whether each value in the data is missing. Then, check both columns and rows for missing values."
   ]
  },
  {
   "cell_type": "code",
   "execution_count": 6,
   "id": "b4c44f2f",
   "metadata": {
    "colab": {
     "base_uri": "https://localhost:8080/",
     "height": 424
    },
    "executionInfo": {
     "elapsed": 30,
     "status": "ok",
     "timestamp": 1660774678715,
     "user": {
      "displayName": "Lavanya Vijayan",
      "userId": "01043085078394539645"
     },
     "user_tz": 420
    },
    "id": "a087e249-4392-4168-80ee-153dfbd9660f",
    "outputId": "13d7c121-98af-4dd0-c316-14f61076af17"
   },
   "outputs": [
    {
     "data": {
      "text/html": [
       "<div>\n",
       "<style scoped>\n",
       "    .dataframe tbody tr th:only-of-type {\n",
       "        vertical-align: middle;\n",
       "    }\n",
       "\n",
       "    .dataframe tbody tr th {\n",
       "        vertical-align: top;\n",
       "    }\n",
       "\n",
       "    .dataframe thead th {\n",
       "        text-align: right;\n",
       "    }\n",
       "</style>\n",
       "<table border=\"1\" class=\"dataframe\">\n",
       "  <thead>\n",
       "    <tr style=\"text-align: right;\">\n",
       "      <th></th>\n",
       "      <th>TV</th>\n",
       "      <th>Radio</th>\n",
       "      <th>Social Media</th>\n",
       "      <th>Influencer</th>\n",
       "      <th>Sales</th>\n",
       "    </tr>\n",
       "  </thead>\n",
       "  <tbody>\n",
       "    <tr>\n",
       "      <th>0</th>\n",
       "      <td>False</td>\n",
       "      <td>False</td>\n",
       "      <td>False</td>\n",
       "      <td>False</td>\n",
       "      <td>False</td>\n",
       "    </tr>\n",
       "    <tr>\n",
       "      <th>1</th>\n",
       "      <td>False</td>\n",
       "      <td>False</td>\n",
       "      <td>False</td>\n",
       "      <td>False</td>\n",
       "      <td>False</td>\n",
       "    </tr>\n",
       "    <tr>\n",
       "      <th>2</th>\n",
       "      <td>False</td>\n",
       "      <td>False</td>\n",
       "      <td>False</td>\n",
       "      <td>False</td>\n",
       "      <td>False</td>\n",
       "    </tr>\n",
       "    <tr>\n",
       "      <th>3</th>\n",
       "      <td>False</td>\n",
       "      <td>False</td>\n",
       "      <td>False</td>\n",
       "      <td>False</td>\n",
       "      <td>False</td>\n",
       "    </tr>\n",
       "    <tr>\n",
       "      <th>4</th>\n",
       "      <td>False</td>\n",
       "      <td>False</td>\n",
       "      <td>False</td>\n",
       "      <td>False</td>\n",
       "      <td>False</td>\n",
       "    </tr>\n",
       "    <tr>\n",
       "      <th>...</th>\n",
       "      <td>...</td>\n",
       "      <td>...</td>\n",
       "      <td>...</td>\n",
       "      <td>...</td>\n",
       "      <td>...</td>\n",
       "    </tr>\n",
       "    <tr>\n",
       "      <th>567</th>\n",
       "      <td>False</td>\n",
       "      <td>False</td>\n",
       "      <td>False</td>\n",
       "      <td>False</td>\n",
       "      <td>False</td>\n",
       "    </tr>\n",
       "    <tr>\n",
       "      <th>568</th>\n",
       "      <td>False</td>\n",
       "      <td>False</td>\n",
       "      <td>False</td>\n",
       "      <td>False</td>\n",
       "      <td>False</td>\n",
       "    </tr>\n",
       "    <tr>\n",
       "      <th>569</th>\n",
       "      <td>False</td>\n",
       "      <td>False</td>\n",
       "      <td>False</td>\n",
       "      <td>False</td>\n",
       "      <td>False</td>\n",
       "    </tr>\n",
       "    <tr>\n",
       "      <th>570</th>\n",
       "      <td>False</td>\n",
       "      <td>False</td>\n",
       "      <td>False</td>\n",
       "      <td>False</td>\n",
       "      <td>False</td>\n",
       "    </tr>\n",
       "    <tr>\n",
       "      <th>571</th>\n",
       "      <td>False</td>\n",
       "      <td>False</td>\n",
       "      <td>False</td>\n",
       "      <td>False</td>\n",
       "      <td>False</td>\n",
       "    </tr>\n",
       "  </tbody>\n",
       "</table>\n",
       "<p>572 rows × 5 columns</p>\n",
       "</div>"
      ],
      "text/plain": [
       "        TV  Radio  Social Media  Influencer  Sales\n",
       "0    False  False         False       False  False\n",
       "1    False  False         False       False  False\n",
       "2    False  False         False       False  False\n",
       "3    False  False         False       False  False\n",
       "4    False  False         False       False  False\n",
       "..     ...    ...           ...         ...    ...\n",
       "567  False  False         False       False  False\n",
       "568  False  False         False       False  False\n",
       "569  False  False         False       False  False\n",
       "570  False  False         False       False  False\n",
       "571  False  False         False       False  False\n",
       "\n",
       "[572 rows x 5 columns]"
      ]
     },
     "execution_count": 6,
     "metadata": {},
     "output_type": "execute_result"
    }
   ],
   "source": [
    "# Step 1. Start with .isna() to get booleans indicating whether each value in the data is missing\n",
    "\n",
    "\n",
    "data.isna()\n",
    "# Checking for missing values in the dataset."
   ]
  },
  {
   "cell_type": "markdown",
   "id": "6ec80c22",
   "metadata": {
    "id": "3bd09ee1-60c5-4f88-bd50-17491f715a39"
   },
   "source": [
    "If you would like to read more about the `isna()` function,  feel free to refer to its documentation, available in the references section of this lab."
   ]
  },
  {
   "cell_type": "code",
   "execution_count": 7,
   "id": "1d0029e1",
   "metadata": {
    "colab": {
     "base_uri": "https://localhost:8080/"
    },
    "executionInfo": {
     "elapsed": 29,
     "status": "ok",
     "timestamp": 1660774678716,
     "user": {
      "displayName": "Lavanya Vijayan",
      "userId": "01043085078394539645"
     },
     "user_tz": 420
    },
    "id": "f08b6e59-daf5-4aca-a63e-7b7f0c188449",
    "outputId": "47313b7c-a70f-422a-c776-69d16c2ec11e"
   },
   "outputs": [
    {
     "data": {
      "text/plain": [
       "0      False\n",
       "1      False\n",
       "2      False\n",
       "3      False\n",
       "4      False\n",
       "       ...  \n",
       "567    False\n",
       "568    False\n",
       "569    False\n",
       "570    False\n",
       "571    False\n",
       "Length: 572, dtype: bool"
      ]
     },
     "execution_count": 7,
     "metadata": {},
     "output_type": "execute_result"
    }
   ],
   "source": [
    "# Step 1. Start with .isna() to get booleans indicating whether each value in the data is missing\n",
    "# Step 2. Use .any(axis=1) to get booleans indicating whether there are any missing values along the columns in each row\n",
    "\n",
    "\n",
    "data.isna().any(axis=1)\n",
    "# Checking for missing values in the dataset."
   ]
  },
  {
   "cell_type": "markdown",
   "id": "5fb4bd0c",
   "metadata": {
    "id": "e6bc866e-b4da-4562-b066-3f1201b0e0c1"
   },
   "source": [
    "If you would like to read more about the `any()` function, feel free to refer to its documentation, available in the references section of this lab."
   ]
  },
  {
   "cell_type": "code",
   "execution_count": 8,
   "id": "cead4462",
   "metadata": {
    "colab": {
     "base_uri": "https://localhost:8080/"
    },
    "executionInfo": {
     "elapsed": 24,
     "status": "ok",
     "timestamp": 1660774678717,
     "user": {
      "displayName": "Lavanya Vijayan",
      "userId": "01043085078394539645"
     },
     "user_tz": 420
    },
    "id": "8e403e86-0a72-44a9-8d92-dd57f9c0caca",
    "outputId": "a36d5076-3a10-41b8-920f-2d96fdbb2a69"
   },
   "outputs": [
    {
     "data": {
      "text/plain": [
       "3"
      ]
     },
     "execution_count": 8,
     "metadata": {},
     "output_type": "execute_result"
    }
   ],
   "source": [
    "# Step 1. Start with .isna() to get booleans indicating whether each value in the data is missing\n",
    "# Step 2. Use .any(axis=1) to get booleans indicating whether there are any missing values along the columns in each row\n",
    "# Step 3. Use .sum() to get the number of rows that contain missing values\n",
    "\n",
    "\n",
    "data.isna().any(axis=1).sum()\n",
    "# Checking for missing values in the dataset."
   ]
  },
  {
   "cell_type": "markdown",
   "id": "c39aedb1",
   "metadata": {
    "id": "8e75b7b7-8474-4eb7-9616-3f1dc017db86"
   },
   "source": [
    "If you would like to read more about the `sum()` function, feel free to refer to its documentation, available in the references section of this lab."
   ]
  },
  {
   "cell_type": "markdown",
   "id": "d71c6d03",
   "metadata": {
    "id": "1b0da416-2142-4109-b1ca-48d0e620f2b2",
    "tags": []
   },
   "source": [
    "## **Question 3**: What do you observe about the number of rows containing missing values?\n",
    "\n",
    "- There are 3 rows containing missing values, which is not that many, considering the total number of rows. It would be appropriate to drop these rows that contain missing values to proceed with preparing the data for modeling."
   ]
  },
  {
   "cell_type": "markdown",
   "id": "73733dba",
   "metadata": {
    "id": "378974cf-892b-43f9-80fc-7b7271531915",
    "tags": []
   },
   "source": [
    "## Drop the rows that contain missing values.\n",
    "This is an important step in data cleaning, as it makes the data more usable for the analysis and regression that you will conduct next."
   ]
  },
  {
   "cell_type": "code",
   "execution_count": 9,
   "id": "bda3bf7f",
   "metadata": {
    "executionInfo": {
     "elapsed": 21,
     "status": "ok",
     "timestamp": 1660774678719,
     "user": {
      "displayName": "Lavanya Vijayan",
      "userId": "01043085078394539645"
     },
     "user_tz": 420
    },
    "id": "fed80cba-aa90-4c9d-a9d9-d995fa9a649d"
   },
   "outputs": [],
   "source": [
    "# Step 1. Use .dropna(axis=0) to indicate that you want rows which contain missing values to be dropped\n",
    "# Step 2. To update the DataFrame, reassign it to the result\n",
    "\n",
    "\n",
    "data = data.dropna(axis=0)"
   ]
  },
  {
   "cell_type": "code",
   "execution_count": 10,
   "id": "bc1ce6c3",
   "metadata": {
    "colab": {
     "base_uri": "https://localhost:8080/"
    },
    "executionInfo": {
     "elapsed": 437,
     "status": "ok",
     "timestamp": 1660774679136,
     "user": {
      "displayName": "Lavanya Vijayan",
      "userId": "01043085078394539645"
     },
     "user_tz": 420
    },
    "id": "540f9c5d-5036-4df3-976b-2c1348a235fe",
    "outputId": "31b0c1cf-452e-4743-8333-c7f9a370dd41"
   },
   "outputs": [
    {
     "data": {
      "text/plain": [
       "0"
      ]
     },
     "execution_count": 10,
     "metadata": {},
     "output_type": "execute_result"
    }
   ],
   "source": [
    "# Check to make sure that the data does not contain any rows with missing values now\n",
    "\n",
    "# Step 1. Start with .isna() to get booleans indicating whether each value in the data is missing\n",
    "# Step 2. Use .any(axis=1) to get booleans indicating whether there are any missing values along the columns in each row\n",
    "# Step 3. Use .sum() to get the number of rows that contain missing values\n",
    "\n",
    "\n",
    "data.isna().any(axis=1).sum()\n",
    "# Checking for missing values in the dataset."
   ]
  },
  {
   "cell_type": "markdown",
   "id": "efaf2677",
   "metadata": {
    "id": "04271393-b4a7-40b8-8cfd-6dfd815f52bd",
    "tags": []
   },
   "source": [
    "## Check model assumptions.\n",
    "You would like to explore the relationship between radio promotion budget and sales. You could model the relationship using linear regression. To do this, you want to check if the model assumptions for linear regression can be made in this context. Some of the assumptions can be addressed before the model is built --- you will address those in this section. After the model is built, you can finish checking the assumptions."
   ]
  },
  {
   "cell_type": "markdown",
   "id": "316a0ea8",
   "metadata": {
    "id": "0781c130-3f65-4fcb-a137-cd6b3e057187"
   },
   "source": [
    "## Start by creating a plot of pairwise relationships in the data.\n",
    "This will help you visualize the relationships between variables in the data and help you check model assumptions. "
   ]
  },
  {
   "cell_type": "code",
   "execution_count": 11,
   "id": "c3217266",
   "metadata": {
    "colab": {
     "base_uri": "https://localhost:8080/",
     "height": 568
    },
    "executionInfo": {
     "elapsed": 8488,
     "status": "ok",
     "timestamp": 1660774687620,
     "user": {
      "displayName": "Lavanya Vijayan",
      "userId": "01043085078394539645"
     },
     "user_tz": 420
    },
    "id": "cfb20968-e969-495b-9b34-1de2d7b110f6",
    "outputId": "60b35b41-4e11-44dd-e3ac-01c1121c477a"
   },
   "outputs": [
    {
     "name": "stderr",
     "output_type": "stream",
     "text": [
      "C:\\Users\\NiamatullahHa\\AppData\\Local\\anaconda3\\Lib\\site-packages\\seaborn\\_oldcore.py:1119: FutureWarning: use_inf_as_na option is deprecated and will be removed in a future version. Convert inf values to NaN before operating instead.\n",
      "  with pd.option_context('mode.use_inf_as_na', True):\n",
      "C:\\Users\\NiamatullahHa\\AppData\\Local\\anaconda3\\Lib\\site-packages\\seaborn\\_oldcore.py:1119: FutureWarning: use_inf_as_na option is deprecated and will be removed in a future version. Convert inf values to NaN before operating instead.\n",
      "  with pd.option_context('mode.use_inf_as_na', True):\n",
      "C:\\Users\\NiamatullahHa\\AppData\\Local\\anaconda3\\Lib\\site-packages\\seaborn\\_oldcore.py:1119: FutureWarning: use_inf_as_na option is deprecated and will be removed in a future version. Convert inf values to NaN before operating instead.\n",
      "  with pd.option_context('mode.use_inf_as_na', True):\n"
     ]
    },
    {
     "data": {
      "text/plain": [
       "<seaborn.axisgrid.PairGrid at 0x20611f00110>"
      ]
     },
     "execution_count": 11,
     "metadata": {},
     "output_type": "execute_result"
    },
    {
     "data": {
      "image/png": "[encoded data removed]",
      "text/plain": [
       "<Figure size 750x750 with 12 Axes>"
      ]
     },
     "metadata": {},
     "output_type": "display_data"
    }
   ],
   "source": [
    "# Create plot of pairwise relationships\n",
    "\n",
    "\n",
    "sns.pairplot(data)\n",
    "# Visualizing pairwise relationships between features."
   ]
  },
  {
   "cell_type": "markdown",
   "id": "512cb757",
   "metadata": {
    "id": "aba2029f-5371-4214-8497-9a8be492c68b",
    "tags": []
   },
   "source": [
    "<details>\n",
    "<summary><h4><strong>HINT 1</strong></h4></summary>\n",
    "\n",
    "  You may find it helpful to refer back to the video section about creating a plot that shows the \n",
    "  relationships between pairs of variables.\n",
    "\n",
    "</details>"
   ]
  },
  {
   "cell_type": "markdown",
   "id": "c5524dfd",
   "metadata": {
    "id": "eecb9ac6-6cae-4b86-b2dc-b6f07b19a6bf",
    "jp-MarkdownHeadingCollapsed": true,
    "tags": []
   },
   "source": [
    "<details>\n",
    "<summary><h4><strong>HINT 2</strong></h4></summary>\n",
    "\n",
    "  There is a function in the `seaborn` library that you can call to create a plot that shows the \n",
    "  relationships between pairs of variables.\n",
    "\n",
    "</details>"
   ]
  },
  {
   "cell_type": "markdown",
   "id": "f941237a",
   "metadata": {
    "id": "edfdd31e-85f3-4d25-837f-72c09e93110d",
    "tags": []
   },
   "source": [
    "<details>\n",
    "<summary><h4><strong>HINT 3</strong></h4></summary>\n",
    "\n",
    "  You can call the `pairplot()` function from the `seaborn` library.\n",
    "\n",
    "</details>"
   ]
  },
  {
   "cell_type": "markdown",
   "id": "d7931f84",
   "metadata": {
    "id": "4119330d-82f9-4075-8c12-3db273bdf9b3",
    "tags": []
   },
   "source": [
    "## **Question 4**: Is the assumption of linearity met?\n",
    "\n",
    "- In the scatter plot of `Sales` over `Radio`, the points appear to cluster around a line that indicates a positive association between the two variables. Since the points cluster around a line, it seems the assumption of linearity is met."
   ]
  },
  {
   "cell_type": "markdown",
   "id": "db25bd6f",
   "metadata": {
    "id": "1be09689-a693-4059-adeb-945ce8e4e117",
    "jp-MarkdownHeadingCollapsed": true,
    "tags": []
   },
   "source": [
    "<details>\n",
    "<summary><h4><strong>HINT 1</strong></h4></summary>\n",
    "\n",
    "  You may find it helpful to refer back to the video section about checking model assumptions for linear regression.\n",
    "\n",
    "</details>"
   ]
  },
  {
   "cell_type": "markdown",
   "id": "ca71ffe6",
   "metadata": {
    "id": "e88fc7fe-ce13-4a05-8b46-68f6e82516e7",
    "jp-MarkdownHeadingCollapsed": true,
    "tags": []
   },
   "source": [
    "<details>\n",
    "<summary><h4><strong>HINT 2</strong></h4></summary>\n",
    "\n",
    "  Use the scatter plot of `Sales` over `Radio` found in the preceding plot of pairwise relationships. \n",
    "\n",
    "</details>"
   ]
  },
  {
   "cell_type": "markdown",
   "id": "e05990ad",
   "metadata": {
    "id": "9234580a-503a-47b4-83d2-ba8ee46ec407",
    "tags": []
   },
   "source": [
    "<details>\n",
    "<summary><h4><strong>HINT 3</strong></h4></summary>\n",
    "\n",
    "  Check the scatter plot of `Sales` over `Radio` found in the preceding plot of pairwise relationships. If the data points cluster around a line, that would indicate that the assumption of linearity is met. Alternatively, if the data points resemble a random cloud or a curve, then a linear model may not fit the data well.  \n",
    "\n",
    "</details>"
   ]
  },
  {
   "cell_type": "markdown",
   "id": "a370d999",
   "metadata": {
    "id": "39ab5dd9-ea2a-46ce-b3a3-8077d52a833a"
   },
   "source": [
    "# Step 3. Model Building"
   ]
  },
  {
   "cell_type": "markdown",
   "id": "fe93a54d",
   "metadata": {
    "id": "3cd2422c-0f5e-4ac7-89ed-52803d971555"
   },
   "source": [
    "## Start by selecting only the columns that are needed for the model that you will build from the data."
   ]
  },
  {
   "cell_type": "code",
   "execution_count": 12,
   "id": "d1f55dd5",
   "metadata": {
    "executionInfo": {
     "elapsed": 35,
     "status": "ok",
     "timestamp": 1660774687623,
     "user": {
      "displayName": "Lavanya Vijayan",
      "userId": "01043085078394539645"
     },
     "user_tz": 420
    },
    "id": "17701ff3-82f0-4300-90c0-bca6ccce01eb"
   },
   "outputs": [],
   "source": [
    "# Select relevant columns\n",
    "# Save resulting DataFrame in a separate variable to prepare for regression\n",
    "\n",
    "\n",
    "ols_data = data[[\"Radio\", \"Sales\"]]"
   ]
  },
  {
   "cell_type": "markdown",
   "id": "2276dd49",
   "metadata": {
    "id": "e4c39136-f4d6-43a2-950a-e76db253f8c5",
    "jp-MarkdownHeadingCollapsed": true,
    "tags": []
   },
   "source": [
    "<details>\n",
    "<summary><h4><strong>HINT 1</strong></h4></summary>\n",
    "\n",
    "  You may find it helpful to refer back to the video section about selecting multiple columns from a DataFrame.\n",
    "\n",
    "</details>"
   ]
  },
  {
   "cell_type": "markdown",
   "id": "c44742e6",
   "metadata": {
    "id": "1a342164-70eb-4a3f-9ddf-e9a8a22a9ad1",
    "jp-MarkdownHeadingCollapsed": true,
    "tags": []
   },
   "source": [
    "<details>\n",
    "<summary><h4><strong>HINT 2</strong></h4></summary>\n",
    "\n",
    "  Use two pairs of square brackets around the names of the columns that should be selected.\n",
    "\n",
    "</details>"
   ]
  },
  {
   "cell_type": "markdown",
   "id": "adf7205f",
   "metadata": {
    "id": "260ce4a1-10b9-420b-be6d-b3e109227bd1",
    "tags": []
   },
   "source": [
    "<details>\n",
    "<summary><h4><strong>HINT 3</strong></h4></summary>\n",
    "\n",
    "  Make sure column names are spelled exactly as they are in the data.\n",
    "\n",
    "</details>"
   ]
  },
  {
   "cell_type": "markdown",
   "id": "f13e12bb",
   "metadata": {
    "id": "1ea8080e-7f93-4ea6-a0b6-bedeaed3a856"
   },
   "source": [
    "## Display the first 10 rows of the new DataFrame to ensure it is accurate."
   ]
  },
  {
   "cell_type": "code",
   "execution_count": 13,
   "id": "eaa277ae",
   "metadata": {
    "colab": {
     "base_uri": "https://localhost:8080/",
     "height": 363
    },
    "executionInfo": {
     "elapsed": 32,
     "status": "ok",
     "timestamp": 1660774687624,
     "user": {
      "displayName": "Lavanya Vijayan",
      "userId": "01043085078394539645"
     },
     "user_tz": 420
    },
    "id": "39a7ccec-e572-46a8-9139-c4e159e75aae",
    "outputId": "5b9855bb-dcd4-4cff-a08b-7e1b4a688015"
   },
   "outputs": [
    {
     "data": {
      "text/html": [
       "<div>\n",
       "<style scoped>\n",
       "    .dataframe tbody tr th:only-of-type {\n",
       "        vertical-align: middle;\n",
       "    }\n",
       "\n",
       "    .dataframe tbody tr th {\n",
       "        vertical-align: top;\n",
       "    }\n",
       "\n",
       "    .dataframe thead th {\n",
       "        text-align: right;\n",
       "    }\n",
       "</style>\n",
       "<table border=\"1\" class=\"dataframe\">\n",
       "  <thead>\n",
       "    <tr style=\"text-align: right;\">\n",
       "      <th></th>\n",
       "      <th>Radio</th>\n",
       "      <th>Sales</th>\n",
       "    </tr>\n",
       "  </thead>\n",
       "  <tbody>\n",
       "    <tr>\n",
       "      <th>0</th>\n",
       "      <td>1.218354</td>\n",
       "      <td>90.054222</td>\n",
       "    </tr>\n",
       "    <tr>\n",
       "      <th>1</th>\n",
       "      <td>14.949791</td>\n",
       "      <td>222.741668</td>\n",
       "    </tr>\n",
       "    <tr>\n",
       "      <th>2</th>\n",
       "      <td>10.377258</td>\n",
       "      <td>102.774790</td>\n",
       "    </tr>\n",
       "    <tr>\n",
       "      <th>3</th>\n",
       "      <td>26.469274</td>\n",
       "      <td>328.239378</td>\n",
       "    </tr>\n",
       "    <tr>\n",
       "      <th>4</th>\n",
       "      <td>36.876302</td>\n",
       "      <td>351.807328</td>\n",
       "    </tr>\n",
       "    <tr>\n",
       "      <th>5</th>\n",
       "      <td>25.561910</td>\n",
       "      <td>261.966812</td>\n",
       "    </tr>\n",
       "    <tr>\n",
       "      <th>6</th>\n",
       "      <td>37.263819</td>\n",
       "      <td>349.861575</td>\n",
       "    </tr>\n",
       "    <tr>\n",
       "      <th>7</th>\n",
       "      <td>13.187256</td>\n",
       "      <td>140.415286</td>\n",
       "    </tr>\n",
       "    <tr>\n",
       "      <th>8</th>\n",
       "      <td>29.520170</td>\n",
       "      <td>264.592233</td>\n",
       "    </tr>\n",
       "    <tr>\n",
       "      <th>9</th>\n",
       "      <td>3.773287</td>\n",
       "      <td>55.674214</td>\n",
       "    </tr>\n",
       "  </tbody>\n",
       "</table>\n",
       "</div>"
      ],
      "text/plain": [
       "       Radio       Sales\n",
       "0   1.218354   90.054222\n",
       "1  14.949791  222.741668\n",
       "2  10.377258  102.774790\n",
       "3  26.469274  328.239378\n",
       "4  36.876302  351.807328\n",
       "5  25.561910  261.966812\n",
       "6  37.263819  349.861575\n",
       "7  13.187256  140.415286\n",
       "8  29.520170  264.592233\n",
       "9   3.773287   55.674214"
      ]
     },
     "execution_count": 13,
     "metadata": {},
     "output_type": "execute_result"
    }
   ],
   "source": [
    "# Display first 10 rows of the new DataFrame\n",
    "ols_data.head(10)"
   ]
  },
  {
   "cell_type": "markdown",
   "id": "14b55bd6",
   "metadata": {
    "id": "dcd2bea2-dbbd-4e07-85b7-ac3f3121fc20",
    "tags": []
   },
   "source": [
    "<details>\n",
    "<summary><h4><strong>HINT 1</strong></h4></summary>\n",
    "\n",
    "  You may find it helpful to refer back to the video section about displaying contents of a DataFrame.\n",
    "\n",
    "</details>"
   ]
  },
  {
   "cell_type": "markdown",
   "id": "98bad044",
   "metadata": {
    "id": "119e5c4b-e37f-4832-bca5-7ea9170a1e60",
    "jp-MarkdownHeadingCollapsed": true,
    "tags": []
   },
   "source": [
    "<details>\n",
    "<summary><h4><strong>HINT 2</strong></h4></summary>\n",
    "\n",
    "  There is a function in the `pandas` library that allows you to display the first n number of rows of a DataFrame, where n is a number of your choice.\n",
    "\n",
    "</details>"
   ]
  },
  {
   "cell_type": "markdown",
   "id": "755ca519",
   "metadata": {
    "id": "68ec36bd-8617-43bd-be30-132fcb369db1",
    "tags": []
   },
   "source": [
    "<details>\n",
    "<summary><h4><strong>HINT 3</strong></h4></summary>\n",
    "\n",
    "  Call the `head()` function from the `pandas` library and pass in the number of rows from the top that you want to display. \n",
    "\n",
    "</details>"
   ]
  },
  {
   "cell_type": "markdown",
   "id": "61c2225d",
   "metadata": {
    "id": "be7f9869-c67e-4c87-b186-7461a00a9b37"
   },
   "source": [
    "## Write the linear regression formula for modeling the relationship between the two variables of interest."
   ]
  },
  {
   "cell_type": "code",
   "execution_count": 14,
   "id": "105cca97",
   "metadata": {
    "executionInfo": {
     "elapsed": 30,
     "status": "ok",
     "timestamp": 1660774687627,
     "user": {
      "displayName": "Lavanya Vijayan",
      "userId": "01043085078394539645"
     },
     "user_tz": 420
    },
    "id": "f186ff9a-2c18-4cc6-acb3-3b7bf0c0c942"
   },
   "outputs": [],
   "source": [
    "# Write the linear regression formula\n",
    "# Save it in a variable\n",
    "\n",
    "\n",
    "ols_formula = \"Sales ~ Radio\""
   ]
  },
  {
   "cell_type": "markdown",
   "id": "74f763d9",
   "metadata": {
    "id": "69f2b790-4859-4bf6-8eba-45998ddcc599",
    "tags": []
   },
   "source": [
    "<details>\n",
    "<summary><h4><strong>HINT 1</strong></h4></summary>\n",
    "\n",
    "  You may find it helpful to refer back to the video section where model building for linear regression is discussed. \n",
    "\n",
    "</details>"
   ]
  },
  {
   "cell_type": "markdown",
   "id": "c6873ee9",
   "metadata": {
    "id": "4bf1a70c-61a8-4802-a16d-e6d8b08cc9ca",
    "tags": []
   },
   "source": [
    "<details>\n",
    "<summary><h4><strong>HINT 2</strong></h4></summary>\n",
    "\n",
    "  Save the formula as string.\n",
    "\n",
    "</details>"
   ]
  },
  {
   "cell_type": "markdown",
   "id": "d3be1e7a",
   "metadata": {
    "id": "67d7406a-0074-4029-9bda-9f97f653a979",
    "tags": []
   },
   "source": [
    "<details>\n",
    "<summary><h4><strong>HINT 3</strong></h4></summary>\n",
    "\n",
    "  Use a tilde to separate the y variable from the x variable so that the computer understands which is which. Make sure the spelling of each variable exactly matches the corresponding column from the data.\n",
    "\n",
    "</details>"
   ]
  },
  {
   "cell_type": "markdown",
   "id": "c404652f",
   "metadata": {
    "id": "d855f4df-61d5-44a9-996c-9c4080d2be27"
   },
   "source": [
    "## Implement the Ordinary Least Squares (OLS) approach for linear regression."
   ]
  },
  {
   "cell_type": "code",
   "execution_count": 15,
   "id": "0d3413b2",
   "metadata": {
    "executionInfo": {
     "elapsed": 29,
     "status": "ok",
     "timestamp": 1660774687628,
     "user": {
      "displayName": "Lavanya Vijayan",
      "userId": "01043085078394539645"
     },
     "user_tz": 420
    },
    "id": "0722345c-df7c-4563-a112-d30ea25a9ed8"
   },
   "outputs": [],
   "source": [
    "# Implement OLS\n",
    "\n",
    "\n",
    "OLS = ols(formula = ols_formula, data = ols_data)\n",
    "# Defining and fitting an Ordinary Least Squares (OLS) regression model."
   ]
  },
  {
   "cell_type": "markdown",
   "id": "166ce677",
   "metadata": {
    "id": "b5569bad-28e8-45da-bee5-990ab592ff70",
    "tags": []
   },
   "source": [
    "<details>\n",
    "<summary><h4><strong>HINT 1</strong></h4></summary>\n",
    "\n",
    "  You may find it helpful to refer back to the video section where model building for linear regression is discussed.  \n",
    "\n",
    "</details>"
   ]
  },
  {
   "cell_type": "markdown",
   "id": "d9ecc602",
   "metadata": {
    "id": "8884acac-75a5-44e7-a4bc-e162d8753a93",
    "tags": []
   },
   "source": [
    "<details>\n",
    "<summary><h4><strong>HINT 2</strong></h4></summary>\n",
    "\n",
    "  There is a function from the `statsmodels` library that can be called to implement OLS.\n",
    "\n",
    "</details>"
   ]
  },
  {
   "cell_type": "markdown",
   "id": "6b098e7c",
   "metadata": {
    "id": "89a8c604-1e36-40e5-bc6a-7d85f24c372b",
    "tags": []
   },
   "source": [
    "<details>\n",
    "<summary><h4><strong>HINT 3</strong></h4></summary>\n",
    "\n",
    "  You can call the `ols()` function from the `statsmodels` library.\n",
    "\n",
    "</details>"
   ]
  },
  {
   "cell_type": "markdown",
   "id": "2a9d9de2",
   "metadata": {
    "id": "d480f1b9-e772-4c45-aab0-d18600d43d3b"
   },
   "source": [
    "## Create a linear regression model for the data and fit the model to the data."
   ]
  },
  {
   "cell_type": "code",
   "execution_count": 16,
   "id": "b4d9c490",
   "metadata": {
    "executionInfo": {
     "elapsed": 30,
     "status": "ok",
     "timestamp": 1660774687629,
     "user": {
      "displayName": "Lavanya Vijayan",
      "userId": "01043085078394539645"
     },
     "user_tz": 420
    },
    "id": "0927ac02-4f5d-4406-a4c1-56d2e5dbd223"
   },
   "outputs": [],
   "source": [
    "# Fit the model to the data\n",
    "# Save the fitted model in a variable\n",
    "\n",
    "\n",
    "model = OLS.fit()"
   ]
  },
  {
   "cell_type": "markdown",
   "id": "ab162f75",
   "metadata": {
    "id": "ae5677e2-f2de-4f7e-99c2-df0bd23f32c0",
    "tags": []
   },
   "source": [
    "<details>\n",
    "<summary><h4><strong>HINT 1</strong></h4></summary>\n",
    "\n",
    "  You may find it helpful to refer back to the video section where model building for linear regression is discussed.  \n",
    "\n",
    "</details>"
   ]
  },
  {
   "cell_type": "markdown",
   "id": "8276ba5c",
   "metadata": {
    "id": "4c3cbaf2-f372-4f4d-be61-28f80de823d7",
    "tags": []
   },
   "source": [
    "<details>\n",
    "<summary><h4><strong>HINT 2</strong></h4></summary>\n",
    "\n",
    "  There is a function from the `statsmodels` library that can be called to fit the model.\n",
    "\n",
    "</details>"
   ]
  },
  {
   "cell_type": "markdown",
   "id": "d26c0423",
   "metadata": {
    "id": "ce5ed8ce-050a-4f99-905b-676444dd1f02",
    "tags": []
   },
   "source": [
    "<details>\n",
    "<summary><h4><strong>HINT 3</strong></h4></summary>\n",
    "\n",
    "  You can call the `fit()` function from the `statsmodels` library.\n",
    "\n",
    "</details>"
   ]
  },
  {
   "cell_type": "markdown",
   "id": "fe1f40a6",
   "metadata": {
    "id": "e4bb9926-05aa-45da-be69-0d373b9abb66"
   },
   "source": [
    "# Step 4. Results and Evaluation"
   ]
  },
  {
   "cell_type": "markdown",
   "id": "d41d595b",
   "metadata": {
    "id": "91275e23-3c8a-4218-8525-13268d62c14b"
   },
   "source": [
    "## Get a summary of the results from the model."
   ]
  },
  {
   "cell_type": "code",
   "execution_count": 17,
   "id": "f456feb2",
   "metadata": {
    "colab": {
     "base_uri": "https://localhost:8080/",
     "height": 452
    },
    "executionInfo": {
     "elapsed": 29,
     "status": "ok",
     "timestamp": 1660774687629,
     "user": {
      "displayName": "Lavanya Vijayan",
      "userId": "01043085078394539645"
     },
     "user_tz": 420
    },
    "id": "de2160b6-3bdf-41a7-9743-f7cd6d4c38f8",
    "outputId": "9cf4ec2e-d34a-4393-ee7f-1079c1775c1a"
   },
   "outputs": [
    {
     "data": {
      "text/html": [
       "<table class=\"simpletable\">\n",
       "<caption>OLS Regression Results</caption>\n",
       "<tr>\n",
       "  <th>Dep. Variable:</th>          <td>Sales</td>      <th>  R-squared:         </th> <td>   0.757</td> \n",
       "</tr>\n",
       "<tr>\n",
       "  <th>Model:</th>                   <td>OLS</td>       <th>  Adj. R-squared:    </th> <td>   0.757</td> \n",
       "</tr>\n",
       "<tr>\n",
       "  <th>Method:</th>             <td>Least Squares</td>  <th>  F-statistic:       </th> <td>   1768.</td> \n",
       "</tr>\n",
       "<tr>\n",
       "  <th>Date:</th>             <td>Mon, 24 Feb 2025</td> <th>  Prob (F-statistic):</th> <td>2.07e-176</td>\n",
       "</tr>\n",
       "<tr>\n",
       "  <th>Time:</th>                 <td>09:29:25</td>     <th>  Log-Likelihood:    </th> <td> -2966.7</td> \n",
       "</tr>\n",
       "<tr>\n",
       "  <th>No. Observations:</th>      <td>   569</td>      <th>  AIC:               </th> <td>   5937.</td> \n",
       "</tr>\n",
       "<tr>\n",
       "  <th>Df Residuals:</th>          <td>   567</td>      <th>  BIC:               </th> <td>   5946.</td> \n",
       "</tr>\n",
       "<tr>\n",
       "  <th>Df Model:</th>              <td>     1</td>      <th>                     </th>     <td> </td>    \n",
       "</tr>\n",
       "<tr>\n",
       "  <th>Covariance Type:</th>      <td>nonrobust</td>    <th>                     </th>     <td> </td>    \n",
       "</tr>\n",
       "</table>\n",
       "<table class=\"simpletable\">\n",
       "<tr>\n",
       "      <td></td>         <th>coef</th>     <th>std err</th>      <th>t</th>      <th>P>|t|</th>  <th>[0.025</th>    <th>0.975]</th>  \n",
       "</tr>\n",
       "<tr>\n",
       "  <th>Intercept</th> <td>   41.5326</td> <td>    4.067</td> <td>   10.211</td> <td> 0.000</td> <td>   33.544</td> <td>   49.521</td>\n",
       "</tr>\n",
       "<tr>\n",
       "  <th>Radio</th>     <td>    8.1733</td> <td>    0.194</td> <td>   42.048</td> <td> 0.000</td> <td>    7.791</td> <td>    8.555</td>\n",
       "</tr>\n",
       "</table>\n",
       "<table class=\"simpletable\">\n",
       "<tr>\n",
       "  <th>Omnibus:</th>       <td> 2.267</td> <th>  Durbin-Watson:     </th> <td>   1.880</td>\n",
       "</tr>\n",
       "<tr>\n",
       "  <th>Prob(Omnibus):</th> <td> 0.322</td> <th>  Jarque-Bera (JB):  </th> <td>   2.221</td>\n",
       "</tr>\n",
       "<tr>\n",
       "  <th>Skew:</th>          <td>-0.102</td> <th>  Prob(JB):          </th> <td>   0.329</td>\n",
       "</tr>\n",
       "<tr>\n",
       "  <th>Kurtosis:</th>      <td> 2.772</td> <th>  Cond. No.          </th> <td>    45.7</td>\n",
       "</tr>\n",
       "</table><br/><br/>Notes:<br/>[1] Standard Errors assume that the covariance matrix of the errors is correctly specified."
      ],
      "text/latex": [
       "\\begin{center}\n",
       "\\begin{tabular}{lclc}\n",
       "\\toprule\n",
       "\\textbf{Dep. Variable:}    &      Sales       & \\textbf{  R-squared:         } &     0.757   \\\\\n",
       "\\textbf{Model:}            &       OLS        & \\textbf{  Adj. R-squared:    } &     0.757   \\\\\n",
       "\\textbf{Method:}           &  Least Squares   & \\textbf{  F-statistic:       } &     1768.   \\\\\n",
       "\\textbf{Date:}             & Mon, 24 Feb 2025 & \\textbf{  Prob (F-statistic):} & 2.07e-176   \\\\\n",
       "\\textbf{Time:}             &     09:29:25     & \\textbf{  Log-Likelihood:    } &   -2966.7   \\\\\n",
       "\\textbf{No. Observations:} &         569      & \\textbf{  AIC:               } &     5937.   \\\\\n",
       "\\textbf{Df Residuals:}     &         567      & \\textbf{  BIC:               } &     5946.   \\\\\n",
       "\\textbf{Df Model:}         &           1      & \\textbf{                     } &             \\\\\n",
       "\\textbf{Covariance Type:}  &    nonrobust     & \\textbf{                     } &             \\\\\n",
       "\\bottomrule\n",
       "\\end{tabular}\n",
       "\\begin{tabular}{lcccccc}\n",
       "                   & \\textbf{coef} & \\textbf{std err} & \\textbf{t} & \\textbf{P$> |$t$|$} & \\textbf{[0.025} & \\textbf{0.975]}  \\\\\n",
       "\\midrule\n",
       "\\textbf{Intercept} &      41.5326  &        4.067     &    10.211  &         0.000        &       33.544    &       49.521     \\\\\n",
       "\\textbf{Radio}     &       8.1733  &        0.194     &    42.048  &         0.000        &        7.791    &        8.555     \\\\\n",
       "\\bottomrule\n",
       "\\end{tabular}\n",
       "\\begin{tabular}{lclc}\n",
       "\\textbf{Omnibus:}       &  2.267 & \\textbf{  Durbin-Watson:     } &    1.880  \\\\\n",
       "\\textbf{Prob(Omnibus):} &  0.322 & \\textbf{  Jarque-Bera (JB):  } &    2.221  \\\\\n",
       "\\textbf{Skew:}          & -0.102 & \\textbf{  Prob(JB):          } &    0.329  \\\\\n",
       "\\textbf{Kurtosis:}      &  2.772 & \\textbf{  Cond. No.          } &     45.7  \\\\\n",
       "\\bottomrule\n",
       "\\end{tabular}\n",
       "%\\caption{OLS Regression Results}\n",
       "\\end{center}\n",
       "\n",
       "Notes: \\newline\n",
       " [1] Standard Errors assume that the covariance matrix of the errors is correctly specified."
      ],
      "text/plain": [
       "<class 'statsmodels.iolib.summary.Summary'>\n",
       "\"\"\"\n",
       "                            OLS Regression Results                            \n",
       "==============================================================================\n",
       "Dep. Variable:                  Sales   R-squared:                       0.757\n",
       "Model:                            OLS   Adj. R-squared:                  0.757\n",
       "Method:                 Least Squares   F-statistic:                     1768.\n",
       "Date:                Mon, 24 Feb 2025   Prob (F-statistic):          2.07e-176\n",
       "Time:                        09:29:25   Log-Likelihood:                -2966.7\n",
       "No. Observations:                 569   AIC:                             5937.\n",
       "Df Residuals:                     567   BIC:                             5946.\n",
       "Df Model:                           1                                         \n",
       "Covariance Type:            nonrobust                                         \n",
       "==============================================================================\n",
       "                 coef    std err          t      P>|t|      [0.025      0.975]\n",
       "------------------------------------------------------------------------------\n",
       "Intercept     41.5326      4.067     10.211      0.000      33.544      49.521\n",
       "Radio          8.1733      0.194     42.048      0.000       7.791       8.555\n",
       "==============================================================================\n",
       "Omnibus:                        2.267   Durbin-Watson:                   1.880\n",
       "Prob(Omnibus):                  0.322   Jarque-Bera (JB):                2.221\n",
       "Skew:                          -0.102   Prob(JB):                        0.329\n",
       "Kurtosis:                       2.772   Cond. No.                         45.7\n",
       "==============================================================================\n",
       "\n",
       "Notes:\n",
       "[1] Standard Errors assume that the covariance matrix of the errors is correctly specified.\n",
       "\"\"\""
      ]
     },
     "execution_count": 17,
     "metadata": {},
     "output_type": "execute_result"
    }
   ],
   "source": [
    "# Get summary of results\n",
    "\n",
    "\n",
    "model.summary()\n",
    "# Displaying regression results including coefficients, p-values, and R-squared value."
   ]
  },
  {
   "cell_type": "markdown",
   "id": "e927afae",
   "metadata": {
    "id": "95984c14-a8b4-4d85-854b-0215b9be0419",
    "tags": []
   },
   "source": [
    "<details>\n",
    "<summary><h4><strong>HINT 1</strong></h4></summary>\n",
    "\n",
    "  You may find it helpful to refer back to the video section where getting model results is discussed.  \n",
    "\n",
    "</details>"
   ]
  },
  {
   "cell_type": "markdown",
   "id": "3dfbf546",
   "metadata": {
    "id": "45dddaed-a2f2-4328-b1c6-839cff1cbfe0",
    "tags": []
   },
   "source": [
    "<details>\n",
    "<summary><h4><strong>HINT 2</strong></h4></summary>\n",
    "\n",
    "  There is a function from the `statsmodels` library that can be called to get the summary of results from a model.\n",
    "\n",
    "</details>"
   ]
  },
  {
   "cell_type": "markdown",
   "id": "b4346e3d",
   "metadata": {
    "id": "0fe50838-54b9-404f-b441-57fbe2be8b2d",
    "tags": []
   },
   "source": [
    "<details>\n",
    "<summary><h4><strong>HINT 3</strong></h4></summary>\n",
    "\n",
    "  You can call the `summary()` function from the `statsmodels` library.\n",
    "\n",
    "</details>"
   ]
  },
  {
   "cell_type": "markdown",
   "id": "72449cd2",
   "metadata": {
    "id": "557f7ef1-e1ee-4602-aa34-fb04bf5c3158"
   },
   "source": [
    "## Analyze the bottom table from the results summary.\n",
    "\n",
    "Based on that table, identify the coefficients that the model determined would generate the line of best fit, the coefficients here being the y-intercept and the slope. "
   ]
  },
  {
   "cell_type": "markdown",
   "id": "cbf215d0",
   "metadata": {
    "id": "29ec7e9e-ded4-4621-9ef1-62836b90b3a6",
    "jp-MarkdownHeadingCollapsed": true,
    "tags": []
   },
   "source": [
    "## **Question 5**: What is the y-intercept? \n",
    "\n",
    "- The y-intercept is 41.5326. "
   ]
  },
  {
   "cell_type": "markdown",
   "id": "5a3cbf3b",
   "metadata": {
    "id": "dbdbfc1c-fce0-4813-aafe-c58bfaa436b6",
    "jp-MarkdownHeadingCollapsed": true,
    "tags": []
   },
   "source": [
    "## **Question 6**: What is the slope? \n",
    "\n",
    "- The slope is 8.1733. "
   ]
  },
  {
   "cell_type": "markdown",
   "id": "6eef7eaf",
   "metadata": {
    "id": "3521b6db-6c35-4574-9bea-17af4ef3dd96",
    "jp-MarkdownHeadingCollapsed": true,
    "tags": []
   },
   "source": [
    "## **Question 7**: What is the linear equation you would write to express the relationship between sales and radio promotion budget in the form of y = slope * x + y-intercept? \n",
    "\n",
    "- sales = 8.1733 * radio promotion budget + 41.5326"
   ]
  },
  {
   "cell_type": "markdown",
   "id": "8b5318e2",
   "metadata": {
    "id": "fcf820e2-426e-4554-a1a6-20cec9cacd12"
   },
   "source": [
    "## **Question 8**: What do you think the slope in this context means?\n",
    "\n",
    "- One interpretation: If a company has a budget of 1 million dollars more for promoting their products/services on the radio, the company's sales would increase by 8.1733 million dollars on average.\n",
    "- Another interpretation: Companies with 1 million dollars more in their radio promotion budget accrue 8.1733 million dollars more in sales on average."
   ]
  },
  {
   "cell_type": "markdown",
   "id": "974afc41",
   "metadata": {
    "id": "729bb783-ffba-4799-a915-79128060f180"
   },
   "source": [
    "## Finish checking model assumptions.\n",
    "\n",
    "Now that you've built the linear regression model and fit it to the data, you can finish checking the model assumptions. This will help confirm your findings."
   ]
  },
  {
   "cell_type": "markdown",
   "id": "ccdf1a55",
   "metadata": {
    "id": "c8ebe78d-32ba-4213-b58b-3f0aad1774aa"
   },
   "source": [
    "## Plot the OLS data with the best fit regression line."
   ]
  },
  {
   "cell_type": "code",
   "execution_count": 18,
   "id": "ec6d2603",
   "metadata": {
    "colab": {
     "base_uri": "https://localhost:8080/",
     "height": 297
    },
    "executionInfo": {
     "elapsed": 835,
     "status": "ok",
     "timestamp": 1660774688439,
     "user": {
      "displayName": "Lavanya Vijayan",
      "userId": "01043085078394539645"
     },
     "user_tz": 420
    },
    "id": "a41ef379-d2a6-474b-80ce-61dc7a6ad7dd",
    "outputId": "be4052da-1020-4729-eb18-01282934160d"
   },
   "outputs": [
    {
     "data": {
      "text/plain": [
       "<Axes: xlabel='Radio', ylabel='Sales'>"
      ]
     },
     "execution_count": 18,
     "metadata": {},
     "output_type": "execute_result"
    },
    {
     "data": {
      "image/png": "[encoded data removed]",
      "text/plain": [
       "<Figure size 640x480 with 1 Axes>"
      ]
     },
     "metadata": {},
     "output_type": "display_data"
    }
   ],
   "source": [
    "# Plot the OLS data with the best fit regression line\n",
    "\n",
    "\n",
    "sns.regplot(x = \"Radio\", y = \"Sales\", data = ols_data)\n",
    "# Plotting the best-fit regression line with the data points."
   ]
  },
  {
   "cell_type": "markdown",
   "id": "fe05bfc4",
   "metadata": {
    "id": "3684ed67-e472-4800-a0b0-b43774541afb",
    "tags": []
   },
   "source": [
    "<details>\n",
    "<summary><h4><strong>HINT 1</strong></h4></summary>\n",
    "\n",
    "  You may find it helpful to refer back to the video section where plotting the data with the best fit regression line is discussed.  \n",
    "\n",
    "</details>"
   ]
  },
  {
   "cell_type": "markdown",
   "id": "4586c364",
   "metadata": {
    "id": "516bc013-1786-4551-91a5-088cf27c9cb1",
    "tags": []
   },
   "source": [
    "<details>\n",
    "<summary><h4><strong>HINT 2</strong></h4></summary>\n",
    "\n",
    "  There is a function from the `seaborn` library that can be useful here.\n",
    "\n",
    "</details>"
   ]
  },
  {
   "cell_type": "markdown",
   "id": "4cf49b02",
   "metadata": {
    "id": "098a9e51-5138-411b-bde8-0c622ce10323",
    "tags": []
   },
   "source": [
    "<details>\n",
    "<summary><h4><strong>HINT 3</strong></h4></summary>\n",
    "\n",
    "  You can call the `regplot()` function from the `seaborn` library.\n",
    "\n",
    "</details>"
   ]
  },
  {
   "cell_type": "markdown",
   "id": "b0cfd462",
   "metadata": {
    "id": "ad67e686-dd0e-4582-b867-47fe112a53f0"
   },
   "source": [
    "## **Question 9**: What do you observe from the preceding regression plot?\n",
    "\n",
    "- The preceding regression plot illustrates an approximately linear relationship between the two variables along with the best fit line. This confirms the assumption of linearity."
   ]
  },
  {
   "cell_type": "markdown",
   "id": "8146306f",
   "metadata": {
    "id": "72138441-ca7c-4afe-bfe4-aaf0e7aada24"
   },
   "source": [
    "## Check the normality assumption.\n",
    "\n",
    "To get started, get the residuals from the model."
   ]
  },
  {
   "cell_type": "code",
   "execution_count": 19,
   "id": "e18a2d94",
   "metadata": {
    "executionInfo": {
     "elapsed": 17,
     "status": "ok",
     "timestamp": 1660774688440,
     "user": {
      "displayName": "Lavanya Vijayan",
      "userId": "01043085078394539645"
     },
     "user_tz": 420
    },
    "id": "78650cbb-eb48-469f-88b7-f91914b79ea4"
   },
   "outputs": [],
   "source": [
    "# Get the residuals from the model\n",
    "\n",
    "\n",
    "residuals = model.resid"
   ]
  },
  {
   "cell_type": "markdown",
   "id": "d0d66142",
   "metadata": {
    "id": "253395c5-75ef-4791-85b3-a6be7a2683ce",
    "tags": []
   },
   "source": [
    "<details>\n",
    "<summary><h4><strong>HINT 1</strong></h4></summary>\n",
    "\n",
    "  You may find it helpful to refer back to the video section where accessing residuals is discussed.  \n",
    "\n",
    "</details>"
   ]
  },
  {
   "cell_type": "markdown",
   "id": "6955449d",
   "metadata": {
    "id": "3ab36332-ff4d-4ff0-89d9-96c15a86d005",
    "tags": []
   },
   "source": [
    "<details>\n",
    "<summary><h4><strong>HINT 2</strong></h4></summary>\n",
    "\n",
    "  There is an attribute from the `statsmodels` library that can be called to get the residuals from a fitted model.\n",
    "\n",
    "</details>"
   ]
  },
  {
   "cell_type": "markdown",
   "id": "206ce75f",
   "metadata": {
    "id": "3d6c0477-af7c-4850-8a4e-db8cde350c6d",
    "tags": []
   },
   "source": [
    "<details>\n",
    "<summary><h4><strong>HINT 3</strong></h4></summary>\n",
    "\n",
    "  You can call the `resid` attribute from the `statsmodels` library.\n",
    "\n",
    "</details>"
   ]
  },
  {
   "cell_type": "markdown",
   "id": "c5a3baa4",
   "metadata": {
    "id": "666b1d10-0aaa-46c8-ba9f-fc096e1ec989"
   },
   "source": [
    "Visualize the distribution of the residuals."
   ]
  },
  {
   "cell_type": "code",
   "execution_count": 20,
   "id": "2573c4cc",
   "metadata": {
    "colab": {
     "base_uri": "https://localhost:8080/",
     "height": 295
    },
    "executionInfo": {
     "elapsed": 16,
     "status": "ok",
     "timestamp": 1660774688442,
     "user": {
      "displayName": "Lavanya Vijayan",
      "userId": "01043085078394539645"
     },
     "user_tz": 420
    },
    "id": "1ea40581-121a-4d71-b421-7a888fd3b538",
    "outputId": "e2953b83-09d4-4001-e85a-e2bf6435e6e7"
   },
   "outputs": [
    {
     "name": "stderr",
     "output_type": "stream",
     "text": [
      "C:\\Users\\NiamatullahHa\\AppData\\Local\\anaconda3\\Lib\\site-packages\\seaborn\\_oldcore.py:1119: FutureWarning: use_inf_as_na option is deprecated and will be removed in a future version. Convert inf values to NaN before operating instead.\n",
      "  with pd.option_context('mode.use_inf_as_na', True):\n"
     ]
    },
    {
     "data": {
      "image/png": "[encoded data removed]",
      "text/plain": [
       "<Figure size 640x480 with 1 Axes>"
      ]
     },
     "metadata": {},
     "output_type": "display_data"
    }
   ],
   "source": [
    "# Visualize the distribution of the residuals\n",
    "\n",
    "\n",
    "fig = sns.histplot(residuals)\n",
    "fig.set_xlabel(\"Residual Value\")\n",
    "fig.set_title(\"Histogram of Residuals\")\n",
    "plt.show()\n",
    "# Checking if residuals follow a normal distribution using a histogram."
   ]
  },
  {
   "cell_type": "markdown",
   "id": "9852321a",
   "metadata": {
    "id": "4c3bb284-6e46-4c13-84ea-d40f3898ec0c",
    "tags": []
   },
   "source": [
    "<details>\n",
    "<summary><h4><strong>HINT 1</strong></h4></summary>\n",
    "\n",
    "  You may find it helpful to refer back to the video section where visualizing residuals is discussed.  \n",
    "\n",
    "</details>"
   ]
  },
  {
   "cell_type": "markdown",
   "id": "8519dc22",
   "metadata": {
    "id": "e7124d39-997b-4bee-b6b5-e42d10f7f83e",
    "tags": []
   },
   "source": [
    "<details>\n",
    "<summary><h4><strong>HINT 2</strong></h4></summary>\n",
    "\n",
    "  There is a function from the `seaborn` library that can be called to create a histogram.\n",
    "\n",
    "</details>"
   ]
  },
  {
   "cell_type": "markdown",
   "id": "b50d349b",
   "metadata": {
    "id": "693b2c61-7196-4e72-86e7-f35722739f0f",
    "tags": []
   },
   "source": [
    "<details>\n",
    "<summary><h4><strong>HINT 3</strong></h4></summary>\n",
    "\n",
    "  You can call the `histplot()` function from the `seaborn` library.\n",
    "\n",
    "</details>"
   ]
  },
  {
   "cell_type": "markdown",
   "id": "c1016835",
   "metadata": {
    "id": "a7eca70a-cbe7-4e61-b712-3eae5cf6da34"
   },
   "source": [
    "## **Question 10**: Based on the preceding visualization, what do you observe about the distribution of the residuals?\n",
    "\n",
    "- Based on the preceding visualization, the distribution of the residuals is approximately normal. This indicates that the assumption of normality is likely met.\n"
   ]
  },
  {
   "cell_type": "markdown",
   "id": "e868b670",
   "metadata": {
    "id": "368b2874-1289-465d-a2cd-c0b24dacf682"
   },
   "source": [
    "## Create a Q-Q plot to confirm the assumption of normality."
   ]
  },
  {
   "cell_type": "code",
   "execution_count": null,
   "id": "799a0c66",
   "metadata": {
    "colab": {
     "base_uri": "https://localhost:8080/",
     "height": 295
    },
    "executionInfo": {
     "elapsed": 564,
     "status": "ok",
     "timestamp": 1660774688992,
     "user": {
      "displayName": "Lavanya Vijayan",
      "userId": "01043085078394539645"
     },
     "user_tz": 420
    },
    "id": "475aa7cd-c410-4116-93eb-6b6607f75409",
    "outputId": "1c21817a-c191-4889-b799-0a734670a4d3"
   },
   "outputs": [],
   "source": [
    "# Create a Q-Q plot \n",
    "\n",
    "\n",
    "sm.qqplot(residuals, line='s')\n",
    "plt.title(\"Q-Q plot of Residuals\")\n",
    "plt.show()\n",
    "# Creating a Q-Q plot to confirm residual normality."
   ]
  },
  {
   "cell_type": "markdown",
   "id": "403817ed",
   "metadata": {
    "id": "2f5278be-49cd-4cb3-80a2-dccae87192fd",
    "tags": []
   },
   "source": [
    "<details>\n",
    "<summary><h4><strong>HINT 1</strong></h4></summary>\n",
    "\n",
    "  You may find it helpful to refer back to the video section where creating a Q-Q plot is discussed.  \n",
    "\n",
    "</details>"
   ]
  },
  {
   "cell_type": "markdown",
   "id": "8786b93b",
   "metadata": {
    "id": "e1d4e7e6-55df-4fa3-97b1-5306b38ceb67",
    "tags": []
   },
   "source": [
    "<details>\n",
    "<summary><h4><strong>HINT 2</strong></h4></summary>\n",
    "\n",
    "  There is a function from the `statsmodels` library that can be called to create a Q-Q plot.\n",
    "\n",
    "</details>"
   ]
  },
  {
   "cell_type": "markdown",
   "id": "c259d656",
   "metadata": {
    "id": "48c76f2c-459a-497e-ab7b-4a812166c627",
    "tags": []
   },
   "source": [
    "<details>\n",
    "<summary><h4><strong>HINT 3</strong></h4></summary>\n",
    "\n",
    "  You can call the `qqplot()` function from the `statsmodels` library.\n",
    "\n",
    "</details>"
   ]
  },
  {
   "cell_type": "markdown",
   "id": "8a874bf9",
   "metadata": {
    "id": "b343172c-32e9-4d71-a353-5b769460afe1"
   },
   "source": [
    "## **Question 11**: Is the assumption of normality met?\n",
    "\n",
    "- In the preceding Q-Q plot, the points closely follow a straight diagonal line trending upward. This confirms that the normality assumption is met."
   ]
  },
  {
   "cell_type": "markdown",
   "id": "0c381649",
   "metadata": {
    "id": "f0cd9598-a10f-4ba4-8103-a4fe017017ce"
   },
   "source": [
    "## Check the assumptions of independent observation and homoscedasticity.\n",
    "\n",
    "Start by getting the fitted values from the model."
   ]
  },
  {
   "cell_type": "code",
   "execution_count": null,
   "id": "4ea0a406",
   "metadata": {
    "executionInfo": {
     "elapsed": 8,
     "status": "ok",
     "timestamp": 1660774688993,
     "user": {
      "displayName": "Lavanya Vijayan",
      "userId": "01043085078394539645"
     },
     "user_tz": 420
    },
    "id": "7a1df62d-2597-409b-9e1b-5a0b72a01359"
   },
   "outputs": [],
   "source": [
    "# Get fitted values\n",
    "\n",
    "\n",
    "fitted_values = model.predict(ols_data[\"Radio\"])"
   ]
  },
  {
   "cell_type": "markdown",
   "id": "588e59e1",
   "metadata": {
    "id": "9026e8bb-07a0-4263-b664-0448b6fb934e",
    "tags": []
   },
   "source": [
    "<details>\n",
    "<summary><h4><strong>HINT 1</strong></h4></summary>\n",
    "\n",
    "  You may find it helpful to refer back to the video section where calculating fitted values is discussed.  \n",
    "\n",
    "</details>"
   ]
  },
  {
   "cell_type": "markdown",
   "id": "ef95b3db",
   "metadata": {
    "id": "a6123afa-c5e8-4d45-a2d6-e6750d748f95",
    "tags": []
   },
   "source": [
    "<details>\n",
    "<summary><h4><strong>HINT 2</strong></h4></summary>\n",
    "\n",
    "  There is a function from the `statsmodels` library that can be called to calculate fitted values from the model.\n",
    "\n",
    "</details>"
   ]
  },
  {
   "cell_type": "markdown",
   "id": "d76bbc7f",
   "metadata": {
    "id": "b8034b30-f8e9-4b38-8afb-c7ed38b94711",
    "tags": []
   },
   "source": [
    "<details>\n",
    "<summary><h4><strong>HINT 3</strong></h4></summary>\n",
    "\n",
    "  You can call the `predict()` function from the `statsmodels` library. Make sure to pass in the column from `ols_data` corresponding to the x variable.\n",
    "\n",
    "</details>"
   ]
  },
  {
   "cell_type": "markdown",
   "id": "d9e486b5",
   "metadata": {
    "id": "309d0258-0c94-4857-be28-ae67b282ce3d"
   },
   "source": [
    "Create a scatterplot of the residuals against the fitted values."
   ]
  },
  {
   "cell_type": "code",
   "execution_count": null,
   "id": "2e4d3923",
   "metadata": {
    "colab": {
     "base_uri": "https://localhost:8080/",
     "height": 279
    },
    "executionInfo": {
     "elapsed": 575,
     "status": "ok",
     "timestamp": 1660774689561,
     "user": {
      "displayName": "Lavanya Vijayan",
      "userId": "01043085078394539645"
     },
     "user_tz": 420
    },
    "id": "baec4c75-1b60-4c3f-bcb2-56abea7088bd",
    "outputId": "6990c8e7-e770-4ab6-a4e2-918e6acae9e1"
   },
   "outputs": [],
   "source": [
    "# Create a scatterplot of residuals against fitted values\n",
    "\n",
    "\n",
    "fig = sns.scatterplot(x=fitted_values, y=residuals)\n",
    "fig.axhline(0)\n",
    "fig.set_xlabel(\"Fitted Values\")\n",
    "fig.set_ylabel(\"Residuals\")\n",
    "plt.show()\n",
    "# Checking for homoscedasticity by plotting residuals vs. fitted values."
   ]
  },
  {
   "cell_type": "markdown",
   "id": "43e72812",
   "metadata": {
    "id": "afe532da-1b40-496c-b948-47e4b426246c",
    "tags": []
   },
   "source": [
    "<details>\n",
    "<summary><h4><strong>HINT 1</strong></h4></summary>\n",
    "\n",
    "  You may find it helpful to refer back to the video section where visualizing residuals against fitted values is discussed.\n",
    "\n",
    "</details>"
   ]
  },
  {
   "cell_type": "markdown",
   "id": "25973d98",
   "metadata": {
    "id": "a3b18175-7f72-44a7-8a17-046ba30dc4c6",
    "tags": []
   },
   "source": [
    "<details>\n",
    "<summary><h4><strong>HINT 2</strong></h4></summary>\n",
    "\n",
    "  There is a function from the `seaborn` library that can be called to create a scatterplot.\n",
    "\n",
    "</details>"
   ]
  },
  {
   "cell_type": "markdown",
   "id": "e04e4756",
   "metadata": {
    "id": "81b77acb-1e0b-44b4-89be-123d3843e2a6",
    "tags": []
   },
   "source": [
    "<details>\n",
    "<summary><h4><strong>HINT 3</strong></h4></summary>\n",
    "\n",
    "  You can call the `scatterplot()` function from the `seaborn` library.\n",
    "\n",
    "</details>"
   ]
  },
  {
   "cell_type": "markdown",
   "id": "79b3c906",
   "metadata": {
    "id": "93d6469f-8fc1-4cbb-b551-d7be8f506f3e"
   },
   "source": [
    "## **Question 12**: Are the assumptions of independent observation and homoscedasticity met?\n",
    "\n",
    "- In the preceding scatterplot, the data points have a cloud-like resemblance and do not follow an explicit pattern. So it appears that the independent observation assumption has not been violated. Given that the residuals appear to be randomly spaced, the homoscedasticity assumption seems to be met."
   ]
  },
  {
   "cell_type": "markdown",
   "id": "304d3cfd",
   "metadata": {
    "id": "29f336ab-8b70-446e-9498-b56740728e87"
   },
   "source": [
    "# Conclusion\n",
    "\n",
    "**What are the key takeaways from this lab?**\n",
    "- Data visualizations and exploratory data analysis can be used to check if linear regression is a well suited approach for modeling the relationship between two variables.\n",
    "- The results of a linear regression model can be used to express the relationship between two variables. \n",
    "\n",
    "**What results can be presented from this lab?**\n",
    "\n",
    "In the simple linear regression model, the y-intercept is 41.5326 and the slope is 8.1733. \n",
    "    One interpretation: If a company has a budget of 1 million dollars more for promoting their products/services on the radio, the company's sales would increase by 8.1733 million dollars on average.\n",
    "    Another interpretation: Companies with 1 million dollars more in their radio promotion budget accrue 8.1733 million dollars more in sales on average.\n",
    "\n",
    "\n",
    "The results are statistically significant with a p-value of 0.000, which is a very small value (and smaller than the common significance level of 0.05). This indicates that there is a very low probability of observing data as extreme or more extreme than this dataset when the null hypothesis is true. In this context, the null hypothesis is that there is no relationship between radio promotion budget and sales i.e. the slope is zero, and the alternative hypothesis is that there is a relationship between radio promotion budget and sales i.e. the slope is not zero. So, you could reject the null hypothesis and state that there is a relationship between radio promotion budget and sales for companies in this data.\n",
    "\n",
    "The slope of the line of best fit that resulted from the regression model is approximate and subject to uncertainty (not the exact value). The 95% confidence interval for the slope is from 7.791 to 8.555. This indicates that there is a 95% probability that the interval [7.791, 8.555] contains the true value for the slope. \n",
    "\n",
    "**How would you frame your findings to external stakeholders?**\n",
    "\n",
    "Based on the dataset at hand and the regression analysis conducted here, there is a notable relationship between radio promotion budget and sales for companies in this data, with a p-value of 0.000 and standard error of 0.194. For companies represented by this data, a 1 million dollar increase in radio promotion budget could be associated with a 8.1733 million dollar increase in sales. It would be worth continuing to promote products/services on the radio. Also, it is recommended to consider further examining the relationship between the two variables (radio promotion budget and sales) in different contexts. For example, it would help to gather more data to understand whether this relationship is different in certain industries or when promoting certain types of products/services. "
   ]
  },
  {
   "cell_type": "markdown",
   "id": "17aada93",
   "metadata": {
    "id": "TLd689mcydX2"
   },
   "source": [
    "**References**\n",
    "\n",
    "Pandas.DataFrame.Any — Pandas 1.4.3 Documentation. https://pandas.pydata.org/docs/reference/api/pandas.DataFrame.any.html.\n",
    "\n",
    "Pandas.DataFrame.Isna — Pandas 1.4.3 Documentation. https://pandas.pydata.org/docs/reference/api/pandas.DataFrame.isna.html.\n",
    "\n",
    "Pandas.Series.Sum — Pandas 1.4.3 Documentation. https://pandas.pydata.org/docs/reference/api/pandas.Series.sum.html.\n",
    "\n",
    "Saragih, H.S. *Dummy Marketing and Sales Data*. https://www.kaggle.com/datasets/harrimansaragih/dummy-advertising-and-sales-data."
   ]
  },
  {
   "cell_type": "markdown",
   "id": "b904dad4",
   "metadata": {},
   "source": [
    "**Congratulations!** You've completed this lab. However, you may not notice a green check mark next to this item on Coursera's platform. Please continue your progress regardless of the check mark. Just click on the \"save\" icon at the top of this notebook to ensure your work has been logged."
   ]
  }
 ],
 "metadata": {
  "colab": {
   "collapsed_sections": [
    "1b0da416-2142-4109-b1ca-48d0e620f2b2",
    "04271393-b4a7-40b8-8cfd-6dfd815f52bd",
    "29ec7e9e-ded4-4621-9ef1-62836b90b3a6",
    "dbdbfc1c-fce0-4813-aafe-c58bfaa436b6",
    "3521b6db-6c35-4574-9bea-17af4ef3dd96",
    "ad67e686-dd0e-4582-b867-47fe112a53f0",
    "a7eca70a-cbe7-4e61-b712-3eae5cf6da34",
    "b343172c-32e9-4d71-a353-5b769460afe1"
   ],
   "name": "SR-051_Full_Mock_Up_Lab_Round4.ipynb",
   "provenance": [],
   "toc_visible": true
  },
  "kernelspec": {
   "display_name": "Python 3 (ipykernel)",
   "language": "python",
   "name": "python3"
  },
  "language_info": {
   "codemirror_mode": {
    "name": "ipython",
    "version": 3
   },
   "file_extension": ".py",
   "mimetype": "text/x-python",
   "name": "python",
   "nbconvert_exporter": "python",
   "pygments_lexer": "ipython3",
   "version": "3.11.7"
  }
 },
 "nbformat": 4,
 "nbformat_minor": 5
}
